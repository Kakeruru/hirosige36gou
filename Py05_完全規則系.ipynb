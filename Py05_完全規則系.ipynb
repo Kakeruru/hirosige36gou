{
  "nbformat": 4,
  "nbformat_minor": 0,
  "metadata": {
    "colab": {
      "provenance": [],
      "authorship_tag": "ABX9TyPKpkVa8qgaRbelFN9pwmt3"
    },
    "kernelspec": {
      "name": "python3",
      "display_name": "Python 3"
    },
    "language_info": {
      "name": "python"
    }
  },
  "cells": [
    {
      "cell_type": "code",
      "execution_count": null,
      "metadata": {
        "colab": {
          "base_uri": "https://localhost:8080/"
        },
        "id": "cO82jXPNX8zU",
        "outputId": "bb1bd854-eee4-47f8-bc8c-3939aa1915e3"
      },
      "outputs": [
        {
          "output_type": "stream",
          "name": "stdout",
          "text": [
            "0\n",
            "(lam1p - 1/lam1p)**2\n",
            "(lam1p - 1/lam1p)**2\n",
            "(lam1p - 1/lam1p)**2\n",
            "-------------------------\n",
            "alpha, beta, gamma, delta が求まり、x_K-1のスペクトル分解が完成するはず\n",
            "{alpha: (VK*gpro*lam1p + VK)/(2*lam1p**5 + 2*lam1p**3), beta: (VK*gpro*lam1p**4 + VK*lam1p**5)/(2*lam1p**2 + 2), delta: (VK*gpro*lam1p**4 - VK*lam1p**5)/(2*lam1p**2 + 2), gamma: (VK*gpro*lam1p - VK)/(2*lam1p**5 + 2*lam1p**3)}\n",
            "{alpha: (VK*gpro*lam1p + VK)/(2*lam1p**5 + 2*lam1p**3), beta: (VK*gpro*lam1p**4 + VK*lam1p**5)/(2*lam1p**2 + 2), delta: (VK*gpro*lam1p**4 - VK*lam1p**5)/(2*lam1p**2 + 2), gamma: (VK*gpro*lam1p - VK)/(2*lam1p**5 + 2*lam1p**3)}\n",
            "{alpha: (VK*gpro*lam1p + VK)/(2*lam1p**5 + 2*lam1p**3), beta: (VK*gpro*lam1p**4 + VK*lam1p**5)/(2*lam1p**2 + 2), delta: (VK*gpro*lam1p**4 - VK*lam1p**5)/(2*lam1p**2 + 2), gamma: (VK*gpro*lam1p - VK)/(2*lam1p**5 + 2*lam1p**3)}\n",
            "-------------------------\n"
          ]
        }
      ],
      "source": [
        "import sympy as sy\n",
        "\n",
        "# 完全規則系でのxK-1スペクトル分解 展開係数を求める\n",
        "lam1n, gt1, lam1p, gt2, lam2n, lam2p, K , g1= sy.symbols('lam1n gt1 lam1p gt2 lam2n lam2p K g1 ')\n",
        "alpha, beta, gamma, delta= sy.symbols('alpha, beta, gamma, delta')\n",
        "VK3, VK2, VK1, VK = sy.symbols('VK3, VK2, VK1, VK')\n",
        "gpro = sy.symbols('gpro')\n",
        "g0 = sy.symbols('g0')\n",
        "\n",
        "\n",
        "lam2p = -lam1p\n",
        "lam1n = lam1p**(-1)\n",
        "lam2n = lam2p**(-1)\n",
        "g1 = -(lam1n+lam1p+lam2n+lam2p)\n",
        "print(g1)\n",
        "g0 = (lam1p - lam1n)**2\n",
        "print(g0)\n",
        "# 完全規則系においてgt1=gt2=g0 g2=1としている\n",
        "gt1 = g0\n",
        "gt2 = g0\n",
        "print(gt1)\n",
        "print(gt2)\n",
        "print('-' * 25)\n",
        "\n",
        "VK1 = gpro*VK\n",
        "VK2 = (gt1+1)*VK\n",
        "VK3 = (gt2+1)*VK1\n",
        "\n",
        "eq1 = sy.Eq(VK3, alpha + beta + gamma + delta)\n",
        "eq2 = sy.Eq(VK2, alpha*lam1p + beta*lam1n + gamma*lam2p + delta*lam2n)\n",
        "eq3 = sy.Eq(VK1, alpha*lam1p**2 + beta*lam1n**2 + gamma*lam2p**2 + delta*lam2n**2)\n",
        "eq4 = sy.Eq(VK, alpha*lam1p**3 + beta*lam1n**3 + gamma*lam2p**3 + delta*lam2n**3)\n",
        "\n",
        "solution = sy.solve([eq1, eq2, eq3, eq4], [alpha, beta, gamma, delta])\n",
        "print('alpha, beta, gamma, delta が求まり、x_K-1のスペクトル分解が完成するはず')\n",
        "print(solution)\n",
        "print(sy.simplify(solution))\n",
        "print(sy.powsimp(solution))\n",
        "print('-' * 25)\n",
        "\n",
        "{alpha: (VK*gpro*lam1p + VK)/(2*lam1p**5 + 2*lam1p**3),\n",
        " beta: (VK*gpro*lam1p**4 + VK*lam1p**5)/(2*lam1p**2 + 2),\n",
        " delta: (VK*gpro*lam1p**4 - VK*lam1p**5)/(2*lam1p**2 + 2),\n",
        " gamma: (VK*gpro*lam1p - VK)/(2*lam1p**5 + 2*lam1p**3)}\n"
      ]
    }
  ]
}